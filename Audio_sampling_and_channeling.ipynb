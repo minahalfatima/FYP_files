{
  "nbformat": 4,
  "nbformat_minor": 0,
  "metadata": {
    "colab": {
      "name": "Audio sampling and channeling.ipynb",
      "provenance": []
    },
    "kernelspec": {
      "name": "python3",
      "display_name": "Python 3"
    },
    "language_info": {
      "name": "python"
    },
    "accelerator": "GPU",
    "gpuClass": "standard"
  },
  "cells": [
    {
      "cell_type": "code",
      "execution_count": 10,
      "metadata": {
        "id": "pLlr-quy15Mt"
      },
      "outputs": [],
      "source": [
        "from google.colab import drive\n",
        "from glob import glob"
      ]
    },
    {
      "cell_type": "code",
      "source": [
        "drive.mount('/content/drive', force_remount=True) \n",
        "data_dir=r'/content/drive/MyDrive/Tacotron-2-master/LJSpeech-1.1/wavs'\n",
        "audio_files=glob(data_dir +'/*.wav')"
      ],
      "metadata": {
        "colab": {
          "base_uri": "https://localhost:8080/"
        },
        "id": "w8I10sbn4xv8",
        "outputId": "a8816d28-d2d3-4191-c4ba-df25cf90d788"
      },
      "execution_count": 11,
      "outputs": [
        {
          "output_type": "stream",
          "name": "stdout",
          "text": [
            "Mounted at /content/drive\n"
          ]
        }
      ]
    },
    {
      "cell_type": "code",
      "source": [
        "!pip install pydub "
      ],
      "metadata": {
        "colab": {
          "base_uri": "https://localhost:8080/"
        },
        "id": "vrBcavuU5mf1",
        "outputId": "a11b4ad3-8916-434a-ff8b-b09b61966215"
      },
      "execution_count": 12,
      "outputs": [
        {
          "output_type": "stream",
          "name": "stdout",
          "text": [
            "Looking in indexes: https://pypi.org/simple, https://us-python.pkg.dev/colab-wheels/public/simple/\n",
            "Requirement already satisfied: pydub in /usr/local/lib/python3.7/dist-packages (0.25.1)\n"
          ]
        }
      ]
    },
    {
      "cell_type": "code",
      "source": [
        "from pydub import AudioSegment\n",
        "import re"
      ],
      "metadata": {
        "id": "E4exmZVcAcHU"
      },
      "execution_count": 13,
      "outputs": []
    },
    {
      "cell_type": "code",
      "source": [
        "for file in range(0,len(audio_files),1):\n",
        "  audio=audio_files[file]\n",
        "  file_name=audio.rpartition('/')[-1]\n",
        "  sound = AudioSegment.from_wav(audio)\n",
        "  sound = sound.set_channels(1)\n",
        "  sound = sound.set_frame_rate(22050)\n",
        "  sound.export(\"/content/drive/MyDrive/Tacotron-2-master/LJSpeech-1.1/wavs2/{}\".format(file_name), format=\"wav\")\n",
        "  \n",
        "  \n"
      ],
      "metadata": {
        "id": "rhYl93bF_YUy"
      },
      "execution_count": null,
      "outputs": []
    },
    {
      "cell_type": "code",
      "source": [
        ""
      ],
      "metadata": {
        "id": "sph_mzv0BZyU"
      },
      "execution_count": null,
      "outputs": []
    }
  ]
}